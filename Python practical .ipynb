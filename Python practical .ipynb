{
  "nbformat": 4,
  "nbformat_minor": 0,
  "metadata": {
    "colab": {
      "provenance": []
    },
    "kernelspec": {
      "name": "python3",
      "display_name": "Python 3"
    },
    "language_info": {
      "name": "python"
    }
  },
  "cells": [
    {
      "cell_type": "code",
      "execution_count": 1,
      "metadata": {
        "colab": {
          "base_uri": "https://localhost:8080/"
        },
        "id": "WBemgVMDbcc0",
        "outputId": "6603b72f-302e-4ddc-db15-1a09daeb6ab0"
      },
      "outputs": [
        {
          "output_type": "stream",
          "name": "stdout",
          "text": [
            "hello world\n"
          ]
        }
      ],
      "source": [
        "#Q1. write a python program to print heelo world\n",
        "print (\"hello world\")"
      ]
    },
    {
      "cell_type": "code",
      "source": [
        "\n",
        "#Q2. Write a Python program that displays your name and age0\n",
        "name = \"Rakshita\"\n",
        "age = 25\n",
        "print(\"Hey , my name is \",name, \"and my age is \", age)"
      ],
      "metadata": {
        "colab": {
          "base_uri": "https://localhost:8080/"
        },
        "id": "ubXLIvE4IBVe",
        "outputId": "ecc79e3e-951b-4f05-9114-1c45b8dc5dc5"
      },
      "execution_count": 1,
      "outputs": [
        {
          "output_type": "stream",
          "name": "stdout",
          "text": [
            "Hey , my name is  Rakshita and my age is  25\n"
          ]
        }
      ]
    },
    {
      "cell_type": "code",
      "source": [
        "\"\"\"Q3. Write code to print all the pre-defined keywords in Python using the\n",
        "keyword library\"\"\"\n",
        "import keyword\n",
        "print(keyword.kwlist)"
      ],
      "metadata": {
        "colab": {
          "base_uri": "https://localhost:8080/"
        },
        "id": "5vZ5Pxx-IqMz",
        "outputId": "5b49d139-503b-4785-9fe1-deeb2cb76776"
      },
      "execution_count": 3,
      "outputs": [
        {
          "output_type": "stream",
          "name": "stdout",
          "text": [
            "['False', 'None', 'True', 'and', 'as', 'assert', 'async', 'await', 'break', 'class', 'continue', 'def', 'del', 'elif', 'else', 'except', 'finally', 'for', 'from', 'global', 'if', 'import', 'in', 'is', 'lambda', 'nonlocal', 'not', 'or', 'pass', 'raise', 'return', 'try', 'while', 'with', 'yield']\n"
          ]
        }
      ]
    },
    {
      "cell_type": "code",
      "source": [
        "#Q4. Write a program that checks if a given word is a Python keyword\n",
        "word = input(\"Enter a word: \")\n",
        "if keyword.iskeyword(word):\n",
        "    print(word, \"is a Python keyword.\")"
      ],
      "metadata": {
        "colab": {
          "base_uri": "https://localhost:8080/"
        },
        "id": "-2UXoqbfJF_6",
        "outputId": "49ade828-9b02-4611-9e6d-494b829b56af"
      },
      "execution_count": 4,
      "outputs": [
        {
          "output_type": "stream",
          "name": "stdout",
          "text": [
            "Enter a word: and\n",
            "and is a Python keyword.\n"
          ]
        }
      ]
    },
    {
      "cell_type": "code",
      "source": [
        "Q5. Create a list and tuple in Python, and demonstrate how attempting to change an element works differently for each?\n",
        "\n",
        "# Creating a list\n",
        "my_list = [1, 2, 3, 4, 5]\n",
        "print(\"Original list:\", my_list)\n",
        "\n",
        "# Changing an element in the list\n",
        "my_list[2] = 10  # We are changing the third element (index 2) to 10\n",
        "print(\"Updated list:\", my_list)\n",
        "\n",
        "\n",
        "#Creating a tuple\n",
        "my_tuple = (1, 2, 3, 4, 5)\n",
        "print(\"Original tuple:\", my_tuple)\n",
        "\n",
        "# Attempting to change an element in the tuple (this will cause an error)\n",
        "try:\n",
        "    my_tuple[2] = 10  # We are trying to change the third element (index 2)\n",
        "except TypeError as e:\n",
        "    print(\"Error:\", e)\n"
      ],
      "metadata": {
        "colab": {
          "base_uri": "https://localhost:8080/"
        },
        "id": "nUWMoXoZJjxg",
        "outputId": "bd91ddc7-bf86-4ca8-9843-11f4a62045af"
      },
      "execution_count": 5,
      "outputs": [
        {
          "output_type": "stream",
          "name": "stdout",
          "text": [
            "Object `each` not found.\n",
            "Original list: [1, 2, 3, 4, 5]\n",
            "Updated list: [1, 2, 10, 4, 5]\n",
            "Original tuple: (1, 2, 3, 4, 5)\n",
            "Error: 'tuple' object does not support item assignment\n"
          ]
        }
      ]
    },
    {
      "cell_type": "code",
      "source": [
        "Q6 Write a function to demonstrate the behavior of mutable and immutable arguments?\n",
        "\n",
        "# Create a list (mutable) and a string (immutable)\n",
        "my_list = [1, 2, 3]  # Mutable\n",
        "my_string = \"original\"  # Immutable\n",
        "\n",
        "print(\"Before changes, mutable list:\", my_list)\n",
        "print(\"Before changes, immutable string:\", my_string)\n",
        "\n",
        "# Modify the mutable list (list can change)\n",
        "my_list.append(\"new item\")\n",
        "print(\"After modification, mutable list:\", my_list)\n",
        "\n",
        "# Modify the immutable string (creates a new string)\n",
        "new_string = my_string + \" added text\"\n",
        "print(\"After modification, immutable string:\", new_string)\n",
        "\n",
        "# Original values after changes\n",
        "print(\"Final mutable list:\", my_list)\n",
        "print(\"Final immutable string:\", my_string)\n",
        "\n"
      ],
      "metadata": {
        "colab": {
          "base_uri": "https://localhost:8080/"
        },
        "id": "42L6qiFHJx3Y",
        "outputId": "d3f3790d-d553-4a93-abc6-fbded5bae6d2"
      },
      "execution_count": 6,
      "outputs": [
        {
          "output_type": "stream",
          "name": "stdout",
          "text": [
            "Object `arguments` not found.\n",
            "Before changes, mutable list: [1, 2, 3]\n",
            "Before changes, immutable string: original\n",
            "After modification, mutable list: [1, 2, 3, 'new item']\n",
            "After modification, immutable string: original added text\n",
            "Final mutable list: [1, 2, 3, 'new item']\n",
            "Final immutable string: original\n"
          ]
        }
      ]
    },
    {
      "cell_type": "code",
      "source": [
        "Q7 Write a function to demonstrate the behavior of mutable and immutable arguments?\n",
        "\n",
        "# Create a list (mutable) and a string (immutable)\n",
        "my_list = [1, 2, 3]  # Mutable\n",
        "my_string = \"original\"  # Immutable\n",
        "\n",
        "print(\"Before changes, mutable list:\", my_list)\n",
        "print(\"Before changes, immutable string:\", my_string)\n",
        "\n",
        "# Modify the mutable list (list can change)\n",
        "my_list.append(\"new item\")\n",
        "print(\"After modification, mutable list:\", my_list)\n",
        "\n",
        "# Modify the immutable string (creates a new string)\n",
        "new_string = my_string + \" added text\"\n",
        "print(\"After modification, immutable string:\", new_string)\n",
        "\n",
        "# Original values after changes\n",
        "print(\"Final mutable list:\", my_list)\n",
        "print(\"Final immutable string:\", my_string)\n",
        "\n"
      ],
      "metadata": {
        "colab": {
          "base_uri": "https://localhost:8080/"
        },
        "id": "LhlZddDfJ-Gw",
        "outputId": "05b333ae-8855-4137-f16e-76a3c3de0819"
      },
      "execution_count": 7,
      "outputs": [
        {
          "output_type": "stream",
          "name": "stdout",
          "text": [
            "Object `arguments` not found.\n",
            "Before changes, mutable list: [1, 2, 3]\n",
            "Before changes, immutable string: original\n",
            "After modification, mutable list: [1, 2, 3, 'new item']\n",
            "After modification, immutable string: original added text\n",
            "Final mutable list: [1, 2, 3, 'new item']\n",
            "Final immutable string: original\n"
          ]
        }
      ]
    },
    {
      "cell_type": "code",
      "source": [
        "Q8 Write a program to demonstrate the use of logical operators?\n",
        "\n",
        "# Example: Logical Operators (AND, OR, NOT) with generic variables\n",
        "a, b, c = True, False, True\n",
        "\n",
        "# AND: Both conditions must be True\n",
        "if a and c:\n",
        "    print(\"Both a and c are True (AND condition).\")\n",
        "\n",
        "# OR: At least one condition must be True\n",
        "if b or c:\n",
        "    print(\"Either b or c is True (OR condition).\")\n",
        "\n",
        "# NOT: Reverses the condition\n",
        "if not b:\n",
        "    print(\"b is False (NOT condition).\")\n"
      ],
      "metadata": {
        "colab": {
          "base_uri": "https://localhost:8080/"
        },
        "id": "ACjRW5xIKH3R",
        "outputId": "296bd653-8b06-42f5-e6fb-628ab0ef38a3"
      },
      "execution_count": 8,
      "outputs": [
        {
          "output_type": "stream",
          "name": "stdout",
          "text": [
            "Object `operators` not found.\n",
            "Both a and c are True (AND condition).\n",
            "Either b or c is True (OR condition).\n",
            "b is False (NOT condition).\n"
          ]
        }
      ]
    },
    {
      "cell_type": "code",
      "source": [
        "#Q9 Write a Python program to convert user input from string to integer, float, and boolean types?\n",
        "user = input(\"Enter a value: \")\n",
        "integer_value = int(user)\n",
        "float_value = float(user)\n",
        "boolean_value = bool(user)\n",
        "print(\"Integer value:\", integer_value)\n",
        "print(\"Float value:\", float_value)\n",
        "print(\"Boolean value:\", boolean_value)\n",
        "\n"
      ],
      "metadata": {
        "colab": {
          "base_uri": "https://localhost:8080/"
        },
        "id": "nk26xzszKROh",
        "outputId": "50a7697f-5bf8-427c-9c50-cf4bb89cf21b"
      },
      "execution_count": 10,
      "outputs": [
        {
          "output_type": "stream",
          "name": "stdout",
          "text": [
            "Enter a value: 55\n",
            "Integer value: 55\n",
            "Float value: 55.0\n",
            "Boolean value: True\n"
          ]
        }
      ]
    },
    {
      "cell_type": "code",
      "source": [
        "Q10. Write code to demonstrate type casting with list elements?\n",
        "a = [1, 2, 3, 3,4]\n",
        "a = str(a)\n",
        "print(a)\n",
        "print(type(a))\n",
        "a = tuple(a)\n",
        "print(a)\n",
        "print(type(a))\n",
        "a = set(a)\n",
        "print(a)\n",
        "print(type(a))"
      ],
      "metadata": {
        "colab": {
          "base_uri": "https://localhost:8080/"
        },
        "id": "3AX6NMzFKyS6",
        "outputId": "deb2b7e9-48d6-49e8-b508-b0a25781d13d"
      },
      "execution_count": 11,
      "outputs": [
        {
          "output_type": "stream",
          "name": "stdout",
          "text": [
            "Object `elements` not found.\n",
            "[1, 2, 3, 3, 4]\n",
            "<class 'str'>\n",
            "('[', '1', ',', ' ', '2', ',', ' ', '3', ',', ' ', '3', ',', ' ', '4', ']')\n",
            "<class 'tuple'>\n",
            "{'3', '2', ']', ',', '4', ' ', '[', '1'}\n",
            "<class 'set'>\n"
          ]
        }
      ]
    },
    {
      "cell_type": "code",
      "source": [
        "Q11. Write a program that checks if a number is positive, negative, or zero?\n",
        "a = input(\"Enter a number: \")\n",
        "if int(a) > 0:\n",
        "      print (\"Number is positive\")\n",
        "\n",
        "elif int(a) < 0:\n",
        "      print (\"Number is negative\")\n",
        "\n",
        "else:\n",
        "      print (\"Number is zero\")"
      ],
      "metadata": {
        "colab": {
          "base_uri": "https://localhost:8080/"
        },
        "id": "MfCMErAFK8JC",
        "outputId": "19eed161-f83c-460a-fd2a-f602e7c5065c"
      },
      "execution_count": 13,
      "outputs": [
        {
          "output_type": "stream",
          "name": "stdout",
          "text": [
            "Object `zero` not found.\n",
            "Enter a number: 22\n",
            "Number is positive\n"
          ]
        }
      ]
    },
    {
      "cell_type": "code",
      "source": [
        "Q12. Write a for loop to print 1 to 100?\n",
        "\n",
        "for i in range(1,100):\n",
        "\n",
        "  print (i)\n",
        ""
      ],
      "metadata": {
        "colab": {
          "base_uri": "https://localhost:8080/"
        },
        "id": "RV4L_UsxLQL6",
        "outputId": "8c15dbb3-9bd9-4873-fcb4-97a62fb786ab"
      },
      "execution_count": 18,
      "outputs": [
        {
          "output_type": "stream",
          "name": "stdout",
          "text": [
            "1\n",
            "2\n",
            "3\n",
            "4\n",
            "5\n",
            "6\n",
            "7\n",
            "8\n",
            "9\n",
            "10\n",
            "11\n",
            "12\n",
            "13\n",
            "14\n",
            "15\n",
            "16\n",
            "17\n",
            "18\n",
            "19\n",
            "20\n",
            "21\n",
            "22\n",
            "23\n",
            "24\n",
            "25\n",
            "26\n",
            "27\n",
            "28\n",
            "29\n",
            "30\n",
            "31\n",
            "32\n",
            "33\n",
            "34\n",
            "35\n",
            "36\n",
            "37\n",
            "38\n",
            "39\n",
            "40\n",
            "41\n",
            "42\n",
            "43\n",
            "44\n",
            "45\n",
            "46\n",
            "47\n",
            "48\n",
            "49\n",
            "50\n",
            "51\n",
            "52\n",
            "53\n",
            "54\n",
            "55\n",
            "56\n",
            "57\n",
            "58\n",
            "59\n",
            "60\n",
            "61\n",
            "62\n",
            "63\n",
            "64\n",
            "65\n",
            "66\n",
            "67\n",
            "68\n",
            "69\n",
            "70\n",
            "71\n",
            "72\n",
            "73\n",
            "74\n",
            "75\n",
            "76\n",
            "77\n",
            "78\n",
            "79\n",
            "80\n",
            "81\n",
            "82\n",
            "83\n",
            "84\n",
            "85\n",
            "86\n",
            "87\n",
            "88\n",
            "89\n",
            "90\n",
            "91\n",
            "92\n",
            "93\n",
            "94\n",
            "95\n",
            "96\n",
            "97\n",
            "98\n",
            "99\n"
          ]
        }
      ]
    },
    {
      "cell_type": "code",
      "source": [
        "Q 13. Write a Python program to find the sum of all even numbers between 1 and 500?\n",
        "\n",
        "total = 0\n",
        "for i in range( 1,501):\n",
        "  if i % 2 == 0:\n",
        "    total = total + i\n",
        "\n",
        "print(\"The sum of all even number form 1 - 500 is: \",total )\n"
      ],
      "metadata": {
        "colab": {
          "base_uri": "https://localhost:8080/"
        },
        "id": "TBXX0ALCMODw",
        "outputId": "a33e6747-484b-4590-d11d-8c62ac1f734b"
      },
      "execution_count": 20,
      "outputs": [
        {
          "output_type": "stream",
          "name": "stdout",
          "text": [
            "The sum of all even number form 1 - 500 is:  62750\n"
          ]
        }
      ]
    },
    {
      "cell_type": "code",
      "source": [
        "Q14. Write a program to reverse a string using a while loop?\n",
        "a = \"hello wold\"\n",
        "reversed_string = \"\"\n",
        "index = len(a) - 1\n",
        "\n",
        "while index >= 0:\n",
        "    reversed_string += a[index]\n",
        "    index -= 1\n",
        "\n",
        "print(\"Reversed string:\", reversed_string)"
      ],
      "metadata": {
        "colab": {
          "base_uri": "https://localhost:8080/"
        },
        "id": "0vVR9sazMnpK",
        "outputId": "84db9e9e-a829-49f1-a945-0f000e2d5e4e"
      },
      "execution_count": 21,
      "outputs": [
        {
          "output_type": "stream",
          "name": "stdout",
          "text": [
            "Object `loop` not found.\n",
            "Reversed string: dlow olleh\n"
          ]
        }
      ]
    },
    {
      "cell_type": "code",
      "source": [
        "Q15.Write a Python program to calculate the factorial of a number provided by the user using a while loop\n",
        "\n",
        "a = int(input(\"Enter a number: \"))\n",
        "factorial = 1\n",
        "while a > 0:\n",
        "    factorial *= a\n",
        "    a -= 1\n",
        "\n",
        "print(\"The factorial of the number is:\", factorial)\n",
        ""
      ],
      "metadata": {
        "colab": {
          "base_uri": "https://localhost:8080/"
        },
        "id": "9QQQ_a_HM3Is",
        "outputId": "aa304dc2-69b6-4fda-ce8d-e6b506a32689"
      },
      "execution_count": 24,
      "outputs": [
        {
          "output_type": "stream",
          "name": "stdout",
          "text": [
            "Enter a number: 6\n",
            "The factorial of the number is: 720\n"
          ]
        }
      ]
    }
  ]
}